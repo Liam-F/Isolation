{
 "cells": [
  {
   "cell_type": "markdown",
   "metadata": {
    "deletable": true,
    "editable": true
   },
   "source": [
    "# Sandbox"
   ]
  },
  {
   "cell_type": "code",
   "execution_count": 1,
   "metadata": {
    "collapsed": false,
    "deletable": true,
    "editable": true
   },
   "outputs": [],
   "source": [
    "import sys\n",
    "import os\n",
    "sys.path.append(\"../\")  # include the root directory as the main\n",
    "import pandas as pd\n",
    "import numpy as np"
   ]
  },
  {
   "cell_type": "code",
   "execution_count": 3,
   "metadata": {
    "collapsed": true,
    "deletable": true,
    "editable": true
   },
   "outputs": [],
   "source": [
    "from aind.isolation import Board\n",
    "from aind.sample_players import RandomPlayer\n",
    "from aind.sample_players import GreedyPlayer"
   ]
  },
  {
   "cell_type": "code",
   "execution_count": 4,
   "metadata": {
    "collapsed": true,
    "deletable": true,
    "editable": true
   },
   "outputs": [],
   "source": [
    "# create an isolation board (by default 7x7)\n",
    "player1 = RandomPlayer()\n",
    "player2 = GreedyPlayer()\n",
    "game = Board(player1, player2)"
   ]
  },
  {
   "cell_type": "code",
   "execution_count": 6,
   "metadata": {
    "collapsed": false,
    "deletable": true,
    "editable": true
   },
   "outputs": [
    {
     "name": "stdout",
     "output_type": "stream",
     "text": [
      "     0   1   2   3   4   5   6\n",
      "\r",
      "0  |   |   |   |   |   | 2 |   | \n",
      "\r",
      "1  |   |   |   |   |   |   |   | \n",
      "\r",
      "2  |   |   |   | 1 |   |   |   | \n",
      "\r",
      "3  |   |   |   |   |   |   |   | \n",
      "\r",
      "4  |   |   |   |   |   |   |   | \n",
      "\r",
      "5  |   |   |   |   |   |   |   | \n",
      "\r",
      "6  |   |   |   |   |   |   |   | \n",
      "\r\n"
     ]
    }
   ],
   "source": [
    "# place player 1 on the board at row 2, column 3, then place player 2 on\n",
    "# the board at row 0, column 5; display the resulting board state.  Note\n",
    "# that the .apply_move() method changes the calling object in-place.\n",
    "game.apply_move((2, 3))\n",
    "game.apply_move((0, 5))\n",
    "print(game.to_string())"
   ]
  },
  {
   "cell_type": "code",
   "execution_count": 7,
   "metadata": {
    "collapsed": false,
    "deletable": true,
    "editable": true
   },
   "outputs": [
    {
     "name": "stdout",
     "output_type": "stream",
     "text": [
      "[(1, 5), (4, 2), (4, 4), (1, 1), (0, 2), (3, 5), (0, 4), (3, 1)]\n"
     ]
    }
   ],
   "source": [
    "# players take turns moving on the board, so player1 should be next to move\n",
    "assert(player1 == game.active_player)\n",
    "\n",
    "# get a list of the legal moves available to the active player\n",
    "print(game.get_legal_moves())\n"
   ]
  },
  {
   "cell_type": "code",
   "execution_count": 8,
   "metadata": {
    "collapsed": false,
    "deletable": true,
    "editable": true
   },
   "outputs": [
    {
     "name": "stdout",
     "output_type": "stream",
     "text": [
      "\n",
      "Old state:\n",
      "     0   1   2   3   4   5   6\n",
      "\r",
      "0  |   |   |   |   |   | 2 |   | \n",
      "\r",
      "1  |   |   |   |   |   |   |   | \n",
      "\r",
      "2  |   |   |   | 1 |   |   |   | \n",
      "\r",
      "3  |   |   |   |   |   |   |   | \n",
      "\r",
      "4  |   |   |   |   |   |   |   | \n",
      "\r",
      "5  |   |   |   |   |   |   |   | \n",
      "\r",
      "6  |   |   |   |   |   |   |   | \n",
      "\r\n",
      "\n",
      "New state:\n",
      "     0   1   2   3   4   5   6\n",
      "\r",
      "0  |   |   |   |   |   | 2 |   | \n",
      "\r",
      "1  |   | 1 |   |   |   |   |   | \n",
      "\r",
      "2  |   |   |   | - |   |   |   | \n",
      "\r",
      "3  |   |   |   |   |   |   |   | \n",
      "\r",
      "4  |   |   |   |   |   |   |   | \n",
      "\r",
      "5  |   |   |   |   |   |   |   | \n",
      "\r",
      "6  |   |   |   |   |   |   |   | \n",
      "\r\n"
     ]
    }
   ],
   "source": [
    "\n",
    "# get a successor of the current state by making a copy of the board and\n",
    "# applying a move. Notice that this does NOT change the calling object\n",
    "# (unlike .apply_move()).\n",
    "new_game = game.forecast_move((1, 1))\n",
    "assert(new_game.to_string() != game.to_string())\n",
    "print(\"\\nOld state:\\n{}\".format(game.to_string()))\n",
    "print(\"\\nNew state:\\n{}\".format(new_game.to_string()))"
   ]
  },
  {
   "cell_type": "code",
   "execution_count": 9,
   "metadata": {
    "collapsed": false,
    "deletable": true,
    "editable": true
   },
   "outputs": [
    {
     "name": "stdout",
     "output_type": "stream",
     "text": [
      "\n",
      "Winner: <aind.sample_players.GreedyPlayer object at 0x000001E95C3023C8>\n",
      "Outcome: illegal move\n",
      "     0   1   2   3   4   5   6\n",
      "\r",
      "0  | - |   |   | 2 | - | - |   | \n",
      "\r",
      "1  |   |   | - |   |   | - |   | \n",
      "\r",
      "2  |   | - | - | - | - |   |   | \n",
      "\r",
      "3  |   |   | - | - | - |   | - | \n",
      "\r",
      "4  | - |   | - | - | - |   | - | \n",
      "\r",
      "5  |   |   | - | - | - | - |   | \n",
      "\r",
      "6  |   | - |   | - |   | 1 |   | \n",
      "\r\n",
      "Move history:\n",
      "[[0, 4], [2, 4], [1, 2], [4, 3], [0, 0], [2, 2], [2, 1], [3, 4], [3, 3], [5, 3], [5, 2], [3, 2], [4, 0], [4, 4], [6, 1], [6, 3], [4, 2], [5, 5], [5, 4], [3, 6], [4, 6], [1, 5], [6, 5], [0, 3]]\n"
     ]
    }
   ],
   "source": [
    "# play the remainder of the game automatically -- outcome can be \"illegal\n",
    "# move\", \"timeout\", or \"forfeit\"\n",
    "winner, history, outcome = game.play()\n",
    "print(\"\\nWinner: {}\\nOutcome: {}\".format(winner, outcome))\n",
    "print(game.to_string())\n",
    "print(\"Move history:\\n{!s}\".format(history))"
   ]
  },
  {
   "cell_type": "markdown",
   "metadata": {
    "collapsed": true,
    "deletable": true,
    "editable": true
   },
   "source": [
    "Reading the data from the file"
   ]
  },
  {
   "cell_type": "code",
   "execution_count": 2,
   "metadata": {
    "collapsed": true,
    "deletable": true,
    "editable": true
   },
   "outputs": [],
   "source": [
    "import pandas as pd"
   ]
  },
  {
   "cell_type": "code",
   "execution_count": 3,
   "metadata": {
    "collapsed": false,
    "deletable": true,
    "editable": true
   },
   "outputs": [],
   "source": [
    "l_data = []\n",
    "with open('../data/data_test.txt', 'r') as fr:\n",
    "    for row in fr:\n",
    "        if 'Win Rate:' in row:\n",
    "            l_data.append([float(x.replace('%', '')) for x in row.strip().split()[2:]])"
   ]
  },
  {
   "cell_type": "code",
   "execution_count": 4,
   "metadata": {
    "collapsed": false,
    "deletable": true,
    "editable": true
   },
   "outputs": [],
   "source": [
    "df_tests = pd.DataFrame(l_data, columns=['AB_Improved', 'AB_Custom', 'AB_Custom_2', 'AB_Custom_3'])"
   ]
  },
  {
   "cell_type": "code",
   "execution_count": 5,
   "metadata": {
    "collapsed": false,
    "deletable": true,
    "editable": true
   },
   "outputs": [
    {
     "data": {
      "text/html": [
       "<div>\n",
       "<table border=\"1\" class=\"dataframe\">\n",
       "  <thead>\n",
       "    <tr style=\"text-align: right;\">\n",
       "      <th></th>\n",
       "      <th>AB_Improved</th>\n",
       "      <th>AB_Custom</th>\n",
       "      <th>AB_Custom_2</th>\n",
       "      <th>AB_Custom_3</th>\n",
       "    </tr>\n",
       "  </thead>\n",
       "  <tbody>\n",
       "    <tr>\n",
       "      <th>0</th>\n",
       "      <td>75.0</td>\n",
       "      <td>67.1</td>\n",
       "      <td>70.0</td>\n",
       "      <td>61.4</td>\n",
       "    </tr>\n",
       "    <tr>\n",
       "      <th>1</th>\n",
       "      <td>71.4</td>\n",
       "      <td>73.6</td>\n",
       "      <td>71.4</td>\n",
       "      <td>69.3</td>\n",
       "    </tr>\n",
       "    <tr>\n",
       "      <th>2</th>\n",
       "      <td>70.7</td>\n",
       "      <td>70.7</td>\n",
       "      <td>72.9</td>\n",
       "      <td>65.0</td>\n",
       "    </tr>\n",
       "    <tr>\n",
       "      <th>3</th>\n",
       "      <td>69.3</td>\n",
       "      <td>70.7</td>\n",
       "      <td>66.4</td>\n",
       "      <td>69.3</td>\n",
       "    </tr>\n",
       "    <tr>\n",
       "      <th>4</th>\n",
       "      <td>66.4</td>\n",
       "      <td>73.6</td>\n",
       "      <td>65.7</td>\n",
       "      <td>67.9</td>\n",
       "    </tr>\n",
       "    <tr>\n",
       "      <th>5</th>\n",
       "      <td>64.3</td>\n",
       "      <td>72.1</td>\n",
       "      <td>69.3</td>\n",
       "      <td>62.9</td>\n",
       "    </tr>\n",
       "    <tr>\n",
       "      <th>6</th>\n",
       "      <td>67.9</td>\n",
       "      <td>69.3</td>\n",
       "      <td>68.6</td>\n",
       "      <td>62.9</td>\n",
       "    </tr>\n",
       "    <tr>\n",
       "      <th>7</th>\n",
       "      <td>70.7</td>\n",
       "      <td>65.7</td>\n",
       "      <td>71.4</td>\n",
       "      <td>67.9</td>\n",
       "    </tr>\n",
       "    <tr>\n",
       "      <th>8</th>\n",
       "      <td>70.0</td>\n",
       "      <td>71.4</td>\n",
       "      <td>69.3</td>\n",
       "      <td>65.0</td>\n",
       "    </tr>\n",
       "    <tr>\n",
       "      <th>9</th>\n",
       "      <td>69.3</td>\n",
       "      <td>72.9</td>\n",
       "      <td>73.6</td>\n",
       "      <td>64.3</td>\n",
       "    </tr>\n",
       "  </tbody>\n",
       "</table>\n",
       "</div>"
      ],
      "text/plain": [
       "   AB_Improved  AB_Custom  AB_Custom_2  AB_Custom_3\n",
       "0         75.0       67.1         70.0         61.4\n",
       "1         71.4       73.6         71.4         69.3\n",
       "2         70.7       70.7         72.9         65.0\n",
       "3         69.3       70.7         66.4         69.3\n",
       "4         66.4       73.6         65.7         67.9\n",
       "5         64.3       72.1         69.3         62.9\n",
       "6         67.9       69.3         68.6         62.9\n",
       "7         70.7       65.7         71.4         67.9\n",
       "8         70.0       71.4         69.3         65.0\n",
       "9         69.3       72.9         73.6         64.3"
      ]
     },
     "execution_count": 5,
     "metadata": {},
     "output_type": "execute_result"
    }
   ],
   "source": [
    "df_tests"
   ]
  },
  {
   "cell_type": "code",
   "execution_count": 14,
   "metadata": {
    "collapsed": false,
    "deletable": true,
    "editable": true
   },
   "outputs": [
    {
     "name": "stdout",
     "output_type": "stream",
     "text": [
      "t-value = 0.969089, p-value = 0.17271971\n"
     ]
    }
   ],
   "source": [
    "import pandas as pd\n",
    "from scipy.stats import ttest_ind\n",
    "#performs t-test\n",
    "b = df_tests.AB_Improved\n",
    "a = df_tests.AB_Custom\n",
    "tval, p_value = ttest_ind(a, b, equal_var=False)\n",
    "print(\"t-value = {:0.6f}, p-value = {:0.8f}\".format(tval, p_value/2))"
   ]
  },
  {
   "cell_type": "code",
   "execution_count": 19,
   "metadata": {
    "collapsed": false
   },
   "outputs": [
    {
     "data": {
      "text/plain": [
       "5"
      ]
     },
     "execution_count": 19,
     "metadata": {},
     "output_type": "execute_result"
    }
   ],
   "source": [
    "(a>b).sum()"
   ]
  },
  {
   "cell_type": "code",
   "execution_count": 18,
   "metadata": {
    "collapsed": false
   },
   "outputs": [
    {
     "name": "stdout",
     "output_type": "stream",
     "text": [
      "t-value = 0.293111, p-value = 0.38642045\n"
     ]
    }
   ],
   "source": [
    "b = df_tests.AB_Improved\n",
    "a = df_tests.AB_Custom_2\n",
    "tval, p_value = ttest_ind(a, b, equal_var=False)\n",
    "print(\"t-value = {:0.6f}, p-value = {:0.8f}\".format(tval, p_value/2))"
   ]
  },
  {
   "cell_type": "code",
   "execution_count": 13,
   "metadata": {
    "collapsed": false
   },
   "outputs": [
    {
     "name": "stdout",
     "output_type": "stream",
     "text": [
      "t-value = -3.040156, p-value = 0.00352281\n"
     ]
    }
   ],
   "source": [
    "b = df_tests.AB_Improved\n",
    "a = df_tests.AB_Custom_3\n",
    "tval, p_value = ttest_ind(a, b, equal_var=False)\n",
    "print(\"t-value = {:0.6f}, p-value = {:0.8f}\".format(tval, p_value/2))"
   ]
  },
  {
   "cell_type": "code",
   "execution_count": null,
   "metadata": {
    "collapsed": true
   },
   "outputs": [],
   "source": []
  }
 ],
 "metadata": {
  "kernelspec": {
   "display_name": "Python 3",
   "language": "python",
   "name": "python3"
  },
  "language_info": {
   "codemirror_mode": {
    "name": "ipython",
    "version": 3
   },
   "file_extension": ".py",
   "mimetype": "text/x-python",
   "name": "python",
   "nbconvert_exporter": "python",
   "pygments_lexer": "ipython3",
   "version": "3.6.0"
  }
 },
 "nbformat": 4,
 "nbformat_minor": 2
}
